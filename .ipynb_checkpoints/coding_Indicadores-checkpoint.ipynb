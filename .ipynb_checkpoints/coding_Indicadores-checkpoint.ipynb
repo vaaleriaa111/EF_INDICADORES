{
 "cells": [
  {
   "cell_type": "code",
   "execution_count": 7,
   "id": "162c1049",
   "metadata": {},
   "outputs": [
    {
     "name": "stdout",
     "output_type": "stream",
     "text": [
      "Requirement already satisfied: unidecode in /Users/valeriaminano/opt/anaconda3/lib/python3.9/site-packages (1.2.0)\r\n"
     ]
    }
   ],
   "source": [
    "!pip install unidecode "
   ]
  },
  {
   "cell_type": "code",
   "execution_count": 2,
   "id": "25264809",
   "metadata": {},
   "outputs": [
    {
     "data": {
      "text/html": [
       "<div>\n",
       "<style scoped>\n",
       "    .dataframe tbody tr th:only-of-type {\n",
       "        vertical-align: middle;\n",
       "    }\n",
       "\n",
       "    .dataframe tbody tr th {\n",
       "        vertical-align: top;\n",
       "    }\n",
       "\n",
       "    .dataframe thead th {\n",
       "        text-align: right;\n",
       "    }\n",
       "</style>\n",
       "<table border=\"1\" class=\"dataframe\">\n",
       "  <thead>\n",
       "    <tr style=\"text-align: right;\">\n",
       "      <th></th>\n",
       "      <th>Ubigeo</th>\n",
       "      <th>Departamento</th>\n",
       "      <th>Provincia</th>\n",
       "      <th>Distrito</th>\n",
       "      <th>Poblacion</th>\n",
       "      <th>Superficie</th>\n",
       "      <th>hogares_saneamiento_pct</th>\n",
       "      <th>poblacion_pobreza_PCT</th>\n",
       "      <th>viviendas_con_servicio_de_luz</th>\n",
       "    </tr>\n",
       "  </thead>\n",
       "  <tbody>\n",
       "    <tr>\n",
       "      <th>0</th>\n",
       "      <td>10202</td>\n",
       "      <td>Amazonas</td>\n",
       "      <td>Bagua</td>\n",
       "      <td>ARAMANGO</td>\n",
       "      <td>10940</td>\n",
       "      <td>809,07</td>\n",
       "      <td>61.44</td>\n",
       "      <td>62,90</td>\n",
       "      <td>78.372</td>\n",
       "    </tr>\n",
       "    <tr>\n",
       "      <th>1</th>\n",
       "      <td>10201</td>\n",
       "      <td>Amazonas</td>\n",
       "      <td>Bagua</td>\n",
       "      <td>BAGUA</td>\n",
       "      <td>26091</td>\n",
       "      <td>150,99</td>\n",
       "      <td>89.46</td>\n",
       "      <td>25,40</td>\n",
       "      <td>24.750</td>\n",
       "    </tr>\n",
       "    <tr>\n",
       "      <th>2</th>\n",
       "      <td>10302</td>\n",
       "      <td>Amazonas</td>\n",
       "      <td>Bongara</td>\n",
       "      <td>CHISQUILLA</td>\n",
       "      <td>335</td>\n",
       "      <td>174,96</td>\n",
       "      <td>88.2</td>\n",
       "      <td>59,80</td>\n",
       "      <td>44.064</td>\n",
       "    </tr>\n",
       "    <tr>\n",
       "      <th>3</th>\n",
       "      <td>10102</td>\n",
       "      <td>Amazonas</td>\n",
       "      <td>Chachapoyas</td>\n",
       "      <td>ASUNCION</td>\n",
       "      <td>288</td>\n",
       "      <td>25,71</td>\n",
       "      <td>73.42</td>\n",
       "      <td>73,40</td>\n",
       "      <td>57.303</td>\n",
       "    </tr>\n",
       "    <tr>\n",
       "      <th>4</th>\n",
       "      <td>10103</td>\n",
       "      <td>Amazonas</td>\n",
       "      <td>Chachapoyas</td>\n",
       "      <td>BALSAS</td>\n",
       "      <td>1644</td>\n",
       "      <td>357,09</td>\n",
       "      <td>89.8</td>\n",
       "      <td>37,80</td>\n",
       "      <td>46.188</td>\n",
       "    </tr>\n",
       "  </tbody>\n",
       "</table>\n",
       "</div>"
      ],
      "text/plain": [
       "  Ubigeo Departamento    Provincia    Distrito Poblacion Superficie  \\\n",
       "0  10202     Amazonas        Bagua    ARAMANGO     10940     809,07   \n",
       "1  10201     Amazonas        Bagua       BAGUA     26091     150,99   \n",
       "2  10302     Amazonas      Bongara  CHISQUILLA       335     174,96   \n",
       "3  10102     Amazonas  Chachapoyas    ASUNCION       288      25,71   \n",
       "4  10103     Amazonas  Chachapoyas      BALSAS      1644     357,09   \n",
       "\n",
       "  hogares_saneamiento_pct poblacion_pobreza_PCT  viviendas_con_servicio_de_luz  \n",
       "0                   61.44                 62,90                         78.372  \n",
       "1                   89.46                 25,40                         24.750  \n",
       "2                    88.2                 59,80                         44.064  \n",
       "3                   73.42                 73,40                         57.303  \n",
       "4                    89.8                 37,80                         46.188  "
      ]
     },
     "execution_count": 2,
     "metadata": {},
     "output_type": "execute_result"
    }
   ],
   "source": [
    "# Tabla de datos\n",
    "import pandas as pd\n",
    "import os\n",
    "\n",
    "datadis=pd.read_excel(os.path.join('data','indicadores_Peru.xls'),dtype={'Ubigeo': object})\n",
    "datadis.head() "
   ]
  },
  {
   "cell_type": "code",
   "execution_count": 4,
   "id": "3bc73a5d",
   "metadata": {},
   "outputs": [
    {
     "data": {
      "text/html": [
       "<div>\n",
       "<style scoped>\n",
       "    .dataframe tbody tr th:only-of-type {\n",
       "        vertical-align: middle;\n",
       "    }\n",
       "\n",
       "    .dataframe tbody tr th {\n",
       "        vertical-align: top;\n",
       "    }\n",
       "\n",
       "    .dataframe thead th {\n",
       "        text-align: right;\n",
       "    }\n",
       "</style>\n",
       "<table border=\"1\" class=\"dataframe\">\n",
       "  <thead>\n",
       "    <tr style=\"text-align: right;\">\n",
       "      <th></th>\n",
       "      <th>DEPARTAMEN</th>\n",
       "      <th>PROVINCIA</th>\n",
       "      <th>DISTRITO</th>\n",
       "      <th>INSTITUCIO</th>\n",
       "      <th>geometry</th>\n",
       "    </tr>\n",
       "  </thead>\n",
       "  <tbody>\n",
       "    <tr>\n",
       "      <th>0</th>\n",
       "      <td>TACNA</td>\n",
       "      <td>TACNA</td>\n",
       "      <td>CORONEL GREGORIO ALBARRACIN LANCHIPA</td>\n",
       "      <td>IGN</td>\n",
       "      <td>POLYGON ((-70.17413 -18.12896, -70.17461 -18.1...</td>\n",
       "    </tr>\n",
       "    <tr>\n",
       "      <th>1</th>\n",
       "      <td>TACNA</td>\n",
       "      <td>TACNA</td>\n",
       "      <td>POCOLLAY</td>\n",
       "      <td>IGN</td>\n",
       "      <td>POLYGON ((-69.93475 -17.92557, -69.90467 -17.9...</td>\n",
       "    </tr>\n",
       "    <tr>\n",
       "      <th>2</th>\n",
       "      <td>TACNA</td>\n",
       "      <td>TACNA</td>\n",
       "      <td>CALANA</td>\n",
       "      <td>IGN</td>\n",
       "      <td>POLYGON ((-70.11604 -17.91106, -70.11457 -17.9...</td>\n",
       "    </tr>\n",
       "    <tr>\n",
       "      <th>3</th>\n",
       "      <td>TACNA</td>\n",
       "      <td>TACNA</td>\n",
       "      <td>TACNA</td>\n",
       "      <td>IGN</td>\n",
       "      <td>POLYGON ((-70.31490 -17.94498, -70.30682 -17.9...</td>\n",
       "    </tr>\n",
       "    <tr>\n",
       "      <th>4</th>\n",
       "      <td>TACNA</td>\n",
       "      <td>TACNA</td>\n",
       "      <td>SAMA</td>\n",
       "      <td>IGN</td>\n",
       "      <td>POLYGON ((-70.42497 -17.88934, -70.48022 -17.9...</td>\n",
       "    </tr>\n",
       "  </tbody>\n",
       "</table>\n",
       "</div>"
      ],
      "text/plain": [
       "  DEPARTAMEN PROVINCIA                              DISTRITO INSTITUCIO  \\\n",
       "0      TACNA     TACNA  CORONEL GREGORIO ALBARRACIN LANCHIPA        IGN   \n",
       "1      TACNA     TACNA                              POCOLLAY        IGN   \n",
       "2      TACNA     TACNA                                CALANA        IGN   \n",
       "3      TACNA     TACNA                                 TACNA        IGN   \n",
       "4      TACNA     TACNA                                  SAMA        IGN   \n",
       "\n",
       "                                            geometry  \n",
       "0  POLYGON ((-70.17413 -18.12896, -70.17461 -18.1...  \n",
       "1  POLYGON ((-69.93475 -17.92557, -69.90467 -17.9...  \n",
       "2  POLYGON ((-70.11604 -17.91106, -70.11457 -17.9...  \n",
       "3  POLYGON ((-70.31490 -17.94498, -70.30682 -17.9...  \n",
       "4  POLYGON ((-70.42497 -17.88934, -70.48022 -17.9...  "
      ]
     },
     "execution_count": 4,
     "metadata": {},
     "output_type": "execute_result"
    }
   ],
   "source": [
    "#Mapa\n",
    "os.environ['USE_PYGEOS'] = '0'\n",
    "\n",
    "import geopandas as gpd\n",
    "\n",
    "dataDisMap=gpd.read_file(os.path.join('maps','DistritosMap'))\n",
    "\n",
    "dataDisMap.head()"
   ]
  },
  {
   "cell_type": "code",
   "execution_count": 5,
   "id": "94a32fcd",
   "metadata": {},
   "outputs": [],
   "source": [
    "#PreProcessing "
   ]
  },
  {
   "cell_type": "code",
   "execution_count": 17,
   "id": "9ae41449",
   "metadata": {},
   "outputs": [],
   "source": [
    "capitalizeColumns=lambda x: x.str.upper().str.strip()\n",
    "datadis[['Provincia','Distrito']]=datadis[['Provincia','Distrito']].apply(capitalizeColumns)\n",
    "dataDisMap[['PROVINCIA','DISTRITO']]=dataDisMap[['PROVINCIA','DISTRITO']].apply(capitalizeColumns)"
   ]
  },
  {
   "cell_type": "code",
   "execution_count": null,
   "id": "539a3dd5",
   "metadata": {},
   "outputs": [],
   "source": [
    "import unidecode\n",
    "\n",
    "byePunctuation=lambda x: unidecode.unidecode(x)\n",
    "datadis[['Provincia','Distrito']]=datadis[['Provincia','Distrito']].applymap(byePunctuation)\n",
    "datadismap[['PROVINCIA','DISTRITO']]=datadismap[['PROVINCIA','DISTRITO']].applymap(byePunctuation)"
   ]
  },
  {
   "cell_type": "code",
   "execution_count": 14,
   "id": "fe9821b5",
   "metadata": {},
   "outputs": [
    {
     "data": {
      "text/plain": [
       "(16383, 1874)"
      ]
     },
     "execution_count": 14,
     "metadata": {},
     "output_type": "execute_result"
    }
   ],
   "source": [
    "len(datadis.Distrito),len(dataDisMap.DISTRITO)"
   ]
  },
  {
   "cell_type": "code",
   "execution_count": 15,
   "id": "3e787b23",
   "metadata": {},
   "outputs": [
    {
     "data": {
      "text/plain": [
       "(16106, 152)"
      ]
     },
     "execution_count": 15,
     "metadata": {},
     "output_type": "execute_result"
    }
   ],
   "source": [
    "datadis.Distrito.duplicated().sum(),dataDisMap.DISTRITO.duplicated().sum()"
   ]
  },
  {
   "cell_type": "code",
   "execution_count": null,
   "id": "2a22edf4",
   "metadata": {},
   "outputs": [],
   "source": []
  },
  {
   "cell_type": "code",
   "execution_count": null,
   "id": "41881eac",
   "metadata": {},
   "outputs": [],
   "source": []
  },
  {
   "cell_type": "code",
   "execution_count": null,
   "id": "6f3127cc",
   "metadata": {},
   "outputs": [],
   "source": []
  },
  {
   "cell_type": "code",
   "execution_count": null,
   "id": "c061f92d",
   "metadata": {},
   "outputs": [],
   "source": []
  }
 ],
 "metadata": {
  "kernelspec": {
   "display_name": "Python 3 (ipykernel)",
   "language": "python",
   "name": "python3"
  },
  "language_info": {
   "codemirror_mode": {
    "name": "ipython",
    "version": 3
   },
   "file_extension": ".py",
   "mimetype": "text/x-python",
   "name": "python",
   "nbconvert_exporter": "python",
   "pygments_lexer": "ipython3",
   "version": "3.9.13"
  }
 },
 "nbformat": 4,
 "nbformat_minor": 5
}
