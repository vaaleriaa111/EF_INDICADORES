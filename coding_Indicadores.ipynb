{
 "cells": [
  {
   "cell_type": "code",
   "execution_count": 1,
   "id": "162c1049",
   "metadata": {},
   "outputs": [
    {
     "name": "stdout",
     "output_type": "stream",
     "text": [
      "Requirement already satisfied: unidecode in /Users/valeriaminano/opt/anaconda3/lib/python3.9/site-packages (1.2.0)\r\n"
     ]
    }
   ],
   "source": [
    "!pip install unidecode"
   ]
  },
  {
   "cell_type": "code",
   "execution_count": 38,
   "id": "aacd65b7",
   "metadata": {},
   "outputs": [
    {
     "name": "stdout",
     "output_type": "stream",
     "text": [
      "Requirement already satisfied: numpy in /Users/valeriaminano/opt/anaconda3/lib/python3.9/site-packages (1.21.5)\r\n"
     ]
    }
   ],
   "source": [
    "!pip install numpy"
   ]
  },
  {
   "cell_type": "code",
   "execution_count": 40,
   "id": "a5b655d0",
   "metadata": {},
   "outputs": [
    {
     "name": "stdout",
     "output_type": "stream",
     "text": [
      "Requirement already satisfied: mapclassify in /Users/valeriaminano/opt/anaconda3/lib/python3.9/site-packages (2.5.0)\n",
      "Requirement already satisfied: scipy>=1.0 in /Users/valeriaminano/opt/anaconda3/lib/python3.9/site-packages (from mapclassify) (1.9.1)\n",
      "Requirement already satisfied: networkx in /Users/valeriaminano/opt/anaconda3/lib/python3.9/site-packages (from mapclassify) (2.8.4)\n",
      "Requirement already satisfied: numpy>=1.3 in /Users/valeriaminano/opt/anaconda3/lib/python3.9/site-packages (from mapclassify) (1.21.5)\n",
      "Requirement already satisfied: scikit-learn in /Users/valeriaminano/opt/anaconda3/lib/python3.9/site-packages (from mapclassify) (1.0.2)\n",
      "Requirement already satisfied: pandas>=1.0 in /Users/valeriaminano/opt/anaconda3/lib/python3.9/site-packages (from mapclassify) (1.4.4)\n",
      "Requirement already satisfied: python-dateutil>=2.8.1 in /Users/valeriaminano/opt/anaconda3/lib/python3.9/site-packages (from pandas>=1.0->mapclassify) (2.8.2)\n",
      "Requirement already satisfied: pytz>=2020.1 in /Users/valeriaminano/opt/anaconda3/lib/python3.9/site-packages (from pandas>=1.0->mapclassify) (2022.1)\n",
      "Requirement already satisfied: joblib>=0.11 in /Users/valeriaminano/opt/anaconda3/lib/python3.9/site-packages (from scikit-learn->mapclassify) (1.1.0)\n",
      "Requirement already satisfied: threadpoolctl>=2.0.0 in /Users/valeriaminano/opt/anaconda3/lib/python3.9/site-packages (from scikit-learn->mapclassify) (2.2.0)\n",
      "Requirement already satisfied: six>=1.5 in /Users/valeriaminano/opt/anaconda3/lib/python3.9/site-packages (from python-dateutil>=2.8.1->pandas>=1.0->mapclassify) (1.16.0)\n"
     ]
    }
   ],
   "source": [
    "!pip install mapclassify"
   ]
  },
  {
   "cell_type": "code",
   "execution_count": null,
   "id": "2a22edf4",
   "metadata": {},
   "outputs": [],
   "source": [
    "#EJERCICIO 1 "
   ]
  },
  {
   "cell_type": "code",
   "execution_count": 2,
   "id": "25264809",
   "metadata": {},
   "outputs": [
    {
     "data": {
      "text/html": [
       "<div>\n",
       "<style scoped>\n",
       "    .dataframe tbody tr th:only-of-type {\n",
       "        vertical-align: middle;\n",
       "    }\n",
       "\n",
       "    .dataframe tbody tr th {\n",
       "        vertical-align: top;\n",
       "    }\n",
       "\n",
       "    .dataframe thead th {\n",
       "        text-align: right;\n",
       "    }\n",
       "</style>\n",
       "<table border=\"1\" class=\"dataframe\">\n",
       "  <thead>\n",
       "    <tr style=\"text-align: right;\">\n",
       "      <th></th>\n",
       "      <th>Ubigeo</th>\n",
       "      <th>Departamento</th>\n",
       "      <th>Provincia</th>\n",
       "      <th>Distrito</th>\n",
       "      <th>Poblacion</th>\n",
       "      <th>Superficie</th>\n",
       "      <th>hogares_saneamiento_pct</th>\n",
       "      <th>poblacion_pobreza_PCT</th>\n",
       "      <th>viviendas_con_servicio_de_luz</th>\n",
       "    </tr>\n",
       "  </thead>\n",
       "  <tbody>\n",
       "    <tr>\n",
       "      <th>0</th>\n",
       "      <td>10202</td>\n",
       "      <td>Amazonas</td>\n",
       "      <td>Bagua</td>\n",
       "      <td>ARAMANGO</td>\n",
       "      <td>10940</td>\n",
       "      <td>809,07</td>\n",
       "      <td>61.44</td>\n",
       "      <td>25.576</td>\n",
       "      <td>78.372</td>\n",
       "    </tr>\n",
       "    <tr>\n",
       "      <th>1</th>\n",
       "      <td>10201</td>\n",
       "      <td>Amazonas</td>\n",
       "      <td>Bagua</td>\n",
       "      <td>BAGUA</td>\n",
       "      <td>26091</td>\n",
       "      <td>150,99</td>\n",
       "      <td>89.46</td>\n",
       "      <td>36.784</td>\n",
       "      <td>24.750</td>\n",
       "    </tr>\n",
       "    <tr>\n",
       "      <th>2</th>\n",
       "      <td>10302</td>\n",
       "      <td>Amazonas</td>\n",
       "      <td>Bongara</td>\n",
       "      <td>CHISQUILLA</td>\n",
       "      <td>335</td>\n",
       "      <td>174,96</td>\n",
       "      <td>88.20</td>\n",
       "      <td>36.280</td>\n",
       "      <td>44.064</td>\n",
       "    </tr>\n",
       "    <tr>\n",
       "      <th>3</th>\n",
       "      <td>10102</td>\n",
       "      <td>Amazonas</td>\n",
       "      <td>Chachapoyas</td>\n",
       "      <td>ASUNCION</td>\n",
       "      <td>288</td>\n",
       "      <td>25,71</td>\n",
       "      <td>73.42</td>\n",
       "      <td>30.368</td>\n",
       "      <td>57.303</td>\n",
       "    </tr>\n",
       "    <tr>\n",
       "      <th>4</th>\n",
       "      <td>10103</td>\n",
       "      <td>Amazonas</td>\n",
       "      <td>Chachapoyas</td>\n",
       "      <td>BALSAS</td>\n",
       "      <td>1644</td>\n",
       "      <td>357,09</td>\n",
       "      <td>89.80</td>\n",
       "      <td>36.920</td>\n",
       "      <td>46.188</td>\n",
       "    </tr>\n",
       "  </tbody>\n",
       "</table>\n",
       "</div>"
      ],
      "text/plain": [
       "  Ubigeo Departamento    Provincia    Distrito  Poblacion Superficie  \\\n",
       "0  10202     Amazonas        Bagua    ARAMANGO      10940     809,07   \n",
       "1  10201     Amazonas        Bagua       BAGUA      26091     150,99   \n",
       "2  10302     Amazonas      Bongara  CHISQUILLA        335     174,96   \n",
       "3  10102     Amazonas  Chachapoyas    ASUNCION        288      25,71   \n",
       "4  10103     Amazonas  Chachapoyas      BALSAS       1644     357,09   \n",
       "\n",
       "   hogares_saneamiento_pct  poblacion_pobreza_PCT  \\\n",
       "0                    61.44                 25.576   \n",
       "1                    89.46                 36.784   \n",
       "2                    88.20                 36.280   \n",
       "3                    73.42                 30.368   \n",
       "4                    89.80                 36.920   \n",
       "\n",
       "   viviendas_con_servicio_de_luz  \n",
       "0                         78.372  \n",
       "1                         24.750  \n",
       "2                         44.064  \n",
       "3                         57.303  \n",
       "4                         46.188  "
      ]
     },
     "execution_count": 2,
     "metadata": {},
     "output_type": "execute_result"
    }
   ],
   "source": [
    "# Tabla de datos\n",
    "import pandas as pd\n",
    "import os\n",
    "\n",
    "datadis=pd.read_excel(os.path.join('data','indicadores_Peru.xls'),dtype={'Ubigeo': object})\n",
    "datadis.head() "
   ]
  },
  {
   "cell_type": "code",
   "execution_count": 3,
   "id": "3bc73a5d",
   "metadata": {},
   "outputs": [
    {
     "data": {
      "text/html": [
       "<div>\n",
       "<style scoped>\n",
       "    .dataframe tbody tr th:only-of-type {\n",
       "        vertical-align: middle;\n",
       "    }\n",
       "\n",
       "    .dataframe tbody tr th {\n",
       "        vertical-align: top;\n",
       "    }\n",
       "\n",
       "    .dataframe thead th {\n",
       "        text-align: right;\n",
       "    }\n",
       "</style>\n",
       "<table border=\"1\" class=\"dataframe\">\n",
       "  <thead>\n",
       "    <tr style=\"text-align: right;\">\n",
       "      <th></th>\n",
       "      <th>DEPARTAMEN</th>\n",
       "      <th>PROVINCIA</th>\n",
       "      <th>DISTRITO</th>\n",
       "      <th>INSTITUCIO</th>\n",
       "      <th>geometry</th>\n",
       "    </tr>\n",
       "  </thead>\n",
       "  <tbody>\n",
       "    <tr>\n",
       "      <th>0</th>\n",
       "      <td>TACNA</td>\n",
       "      <td>TACNA</td>\n",
       "      <td>CORONEL GREGORIO ALBARRACIN LANCHIPA</td>\n",
       "      <td>IGN</td>\n",
       "      <td>POLYGON ((-70.17413 -18.12896, -70.17461 -18.1...</td>\n",
       "    </tr>\n",
       "    <tr>\n",
       "      <th>1</th>\n",
       "      <td>TACNA</td>\n",
       "      <td>TACNA</td>\n",
       "      <td>POCOLLAY</td>\n",
       "      <td>IGN</td>\n",
       "      <td>POLYGON ((-69.93475 -17.92557, -69.90467 -17.9...</td>\n",
       "    </tr>\n",
       "    <tr>\n",
       "      <th>2</th>\n",
       "      <td>TACNA</td>\n",
       "      <td>TACNA</td>\n",
       "      <td>CALANA</td>\n",
       "      <td>IGN</td>\n",
       "      <td>POLYGON ((-70.11604 -17.91106, -70.11457 -17.9...</td>\n",
       "    </tr>\n",
       "    <tr>\n",
       "      <th>3</th>\n",
       "      <td>TACNA</td>\n",
       "      <td>TACNA</td>\n",
       "      <td>TACNA</td>\n",
       "      <td>IGN</td>\n",
       "      <td>POLYGON ((-70.31490 -17.94498, -70.30682 -17.9...</td>\n",
       "    </tr>\n",
       "    <tr>\n",
       "      <th>4</th>\n",
       "      <td>TACNA</td>\n",
       "      <td>TACNA</td>\n",
       "      <td>SAMA</td>\n",
       "      <td>IGN</td>\n",
       "      <td>POLYGON ((-70.42497 -17.88934, -70.48022 -17.9...</td>\n",
       "    </tr>\n",
       "  </tbody>\n",
       "</table>\n",
       "</div>"
      ],
      "text/plain": [
       "  DEPARTAMEN PROVINCIA                              DISTRITO INSTITUCIO  \\\n",
       "0      TACNA     TACNA  CORONEL GREGORIO ALBARRACIN LANCHIPA        IGN   \n",
       "1      TACNA     TACNA                              POCOLLAY        IGN   \n",
       "2      TACNA     TACNA                                CALANA        IGN   \n",
       "3      TACNA     TACNA                                 TACNA        IGN   \n",
       "4      TACNA     TACNA                                  SAMA        IGN   \n",
       "\n",
       "                                            geometry  \n",
       "0  POLYGON ((-70.17413 -18.12896, -70.17461 -18.1...  \n",
       "1  POLYGON ((-69.93475 -17.92557, -69.90467 -17.9...  \n",
       "2  POLYGON ((-70.11604 -17.91106, -70.11457 -17.9...  \n",
       "3  POLYGON ((-70.31490 -17.94498, -70.30682 -17.9...  \n",
       "4  POLYGON ((-70.42497 -17.88934, -70.48022 -17.9...  "
      ]
     },
     "execution_count": 3,
     "metadata": {},
     "output_type": "execute_result"
    }
   ],
   "source": [
    "#Mapa\n",
    "os.environ['USE_PYGEOS'] = '0'\n",
    "\n",
    "import geopandas as gpd\n",
    "\n",
    "# dataDisMap=gpd.read_file(os.path.join('maps','DistritosMap'))\n",
    "dataDisMap = gpd.read_file(os.path.join(\"maps\",\"DistritosMap\",\"DISTRITOS1874.shp\"))\n",
    "dataDisMap.head()"
   ]
  },
  {
   "cell_type": "code",
   "execution_count": 4,
   "id": "94a32fcd",
   "metadata": {},
   "outputs": [],
   "source": [
    "#PreProcessing "
   ]
  },
  {
   "cell_type": "code",
   "execution_count": 12,
   "id": "9ae41449",
   "metadata": {},
   "outputs": [],
   "source": [
    "#str.upper: función que transforma el contenido de las columnas en mayúsculas\n",
    "#str.strip: función que elimina espacios en blanco al principio y al final de cada valor\n",
    "\n",
    "capitalizeColumns=lambda x: x.str.upper().str.strip()\n",
    "\n",
    "datadis[['Departamento','Provincia']]=datadis[['Departamento','Provincia']].apply(capitalizeColumns)\n",
    "dataDisMap[['DEPARTAMEN','PROVINCIA']]=dataDisMap[['DEPARTAMEN','PROVINCIA']].apply(capitalizeColumns)"
   ]
  },
  {
   "cell_type": "code",
   "execution_count": 13,
   "id": "539a3dd5",
   "metadata": {},
   "outputs": [],
   "source": [
    "import unidecode\n",
    "#unidecode.unidecode() elimina acentos y diacríticos \n",
    "byePunctuation=lambda x: unidecode.unidecode(x)\n",
    "\n",
    "datadis[['Departamento','Provincia']]=datadis[['Departamento','Provincia']].applymap(byePunctuation)\n",
    "dataDisMap[['DEPARTAMEN','PROVINCIA']]=dataDisMap[['DEPARTAMEN','PROVINCIA']].applymap(byePunctuation)"
   ]
  },
  {
   "cell_type": "code",
   "execution_count": 14,
   "id": "fe9821b5",
   "metadata": {},
   "outputs": [
    {
     "data": {
      "text/plain": [
       "(280, 1874)"
      ]
     },
     "execution_count": 14,
     "metadata": {},
     "output_type": "execute_result"
    }
   ],
   "source": [
    "len(datadis.Provincia),len(dataDisMap.PROVINCIA)"
   ]
  },
  {
   "cell_type": "code",
   "execution_count": 15,
   "id": "3e787b23",
   "metadata": {},
   "outputs": [
    {
     "data": {
      "text/plain": [
       "(114, 1678)"
      ]
     },
     "execution_count": 15,
     "metadata": {},
     "output_type": "execute_result"
    }
   ],
   "source": [
    "# contamos los duplicados en las columnas \"Provincia\" y \"PROVINCIA\" de los df\n",
    "datadis.Provincia.duplicated().sum(), dataDisMap.PROVINCIA.duplicated().sum()"
   ]
  },
  {
   "cell_type": "code",
   "execution_count": 16,
   "id": "41881eac",
   "metadata": {},
   "outputs": [],
   "source": [
    "# concatenación de columnas \n",
    "datadis['DepartProv'] = [\"+\".join(pd) for pd in zip (datadis.Departamento, datadis.Provincia)]\n",
    "dataDisMap['DepartProv'] = [\"+\".join(pd) for pd in zip (dataDisMap.DEPARTAMEN, dataDisMap.PROVINCIA)]"
   ]
  },
  {
   "cell_type": "code",
   "execution_count": 17,
   "id": "6f3127cc",
   "metadata": {},
   "outputs": [
    {
     "data": {
      "text/plain": [
       "0          AMAZONAS+BAGUA\n",
       "1          AMAZONAS+BAGUA\n",
       "2        AMAZONAS+BONGARA\n",
       "3    AMAZONAS+CHACHAPOYAS\n",
       "4    AMAZONAS+CHACHAPOYAS\n",
       "Name: DepartProv, dtype: object"
      ]
     },
     "execution_count": 17,
     "metadata": {},
     "output_type": "execute_result"
    }
   ],
   "source": [
    "datadis['DepartProv'].head()"
   ]
  },
  {
   "cell_type": "code",
   "execution_count": 18,
   "id": "c061f92d",
   "metadata": {},
   "outputs": [],
   "source": [
    "# reemplazamos: guiones, espacios múltiples -> espacio simple\n",
    "datadis.DepartProv = datadis.DepartProv.str.replace(\"\\-|\\_|\\s+\",\" \",regex=True)\n",
    "dataDisMap.DepartProv = dataDisMap.DepartProv.str.replace(\"\\-|\\_|\\s+\",\" \",regex=True)"
   ]
  },
  {
   "cell_type": "code",
   "execution_count": 19,
   "id": "a37d7dd5",
   "metadata": {},
   "outputs": [
    {
     "data": {
      "text/html": [
       "<div>\n",
       "<style scoped>\n",
       "    .dataframe tbody tr th:only-of-type {\n",
       "        vertical-align: middle;\n",
       "    }\n",
       "\n",
       "    .dataframe tbody tr th {\n",
       "        vertical-align: top;\n",
       "    }\n",
       "\n",
       "    .dataframe thead th {\n",
       "        text-align: right;\n",
       "    }\n",
       "</style>\n",
       "<table border=\"1\" class=\"dataframe\">\n",
       "  <thead>\n",
       "    <tr style=\"text-align: right;\">\n",
       "      <th></th>\n",
       "      <th>Ubigeo</th>\n",
       "      <th>Departamento</th>\n",
       "      <th>Provincia</th>\n",
       "      <th>Distrito</th>\n",
       "      <th>Poblacion</th>\n",
       "      <th>Superficie</th>\n",
       "      <th>hogares_saneamiento_pct</th>\n",
       "      <th>poblacion_pobreza_PCT</th>\n",
       "      <th>viviendas_con_servicio_de_luz</th>\n",
       "      <th>Dist$rito</th>\n",
       "      <th>DepartProv</th>\n",
       "    </tr>\n",
       "  </thead>\n",
       "  <tbody>\n",
       "    <tr>\n",
       "      <th>0</th>\n",
       "      <td>10202</td>\n",
       "      <td>AMAZONAS</td>\n",
       "      <td>BAGUA</td>\n",
       "      <td>ARAMANGO</td>\n",
       "      <td>10940</td>\n",
       "      <td>809,07</td>\n",
       "      <td>61.44</td>\n",
       "      <td>25.576</td>\n",
       "      <td>78.372</td>\n",
       "      <td>ARAMANGO</td>\n",
       "      <td>AMAZONAS+BAGUA</td>\n",
       "    </tr>\n",
       "    <tr>\n",
       "      <th>1</th>\n",
       "      <td>10201</td>\n",
       "      <td>AMAZONAS</td>\n",
       "      <td>BAGUA</td>\n",
       "      <td>BAGUA</td>\n",
       "      <td>26091</td>\n",
       "      <td>150,99</td>\n",
       "      <td>89.46</td>\n",
       "      <td>36.784</td>\n",
       "      <td>24.750</td>\n",
       "      <td>BAGUA</td>\n",
       "      <td>AMAZONAS+BAGUA</td>\n",
       "    </tr>\n",
       "    <tr>\n",
       "      <th>2</th>\n",
       "      <td>10302</td>\n",
       "      <td>AMAZONAS</td>\n",
       "      <td>BONGARA</td>\n",
       "      <td>CHISQUILLA</td>\n",
       "      <td>335</td>\n",
       "      <td>174,96</td>\n",
       "      <td>88.20</td>\n",
       "      <td>36.280</td>\n",
       "      <td>44.064</td>\n",
       "      <td>CHISQUILLA</td>\n",
       "      <td>AMAZONAS+BONGARA</td>\n",
       "    </tr>\n",
       "    <tr>\n",
       "      <th>3</th>\n",
       "      <td>10102</td>\n",
       "      <td>AMAZONAS</td>\n",
       "      <td>CHACHAPOYAS</td>\n",
       "      <td>ASUNCION</td>\n",
       "      <td>288</td>\n",
       "      <td>25,71</td>\n",
       "      <td>73.42</td>\n",
       "      <td>30.368</td>\n",
       "      <td>57.303</td>\n",
       "      <td>ASUNCION</td>\n",
       "      <td>AMAZONAS+CHACHAPOYAS</td>\n",
       "    </tr>\n",
       "    <tr>\n",
       "      <th>4</th>\n",
       "      <td>10103</td>\n",
       "      <td>AMAZONAS</td>\n",
       "      <td>CHACHAPOYAS</td>\n",
       "      <td>BALSAS</td>\n",
       "      <td>1644</td>\n",
       "      <td>357,09</td>\n",
       "      <td>89.80</td>\n",
       "      <td>36.920</td>\n",
       "      <td>46.188</td>\n",
       "      <td>BALSAS</td>\n",
       "      <td>AMAZONAS+CHACHAPOYAS</td>\n",
       "    </tr>\n",
       "    <tr>\n",
       "      <th>...</th>\n",
       "      <td>...</td>\n",
       "      <td>...</td>\n",
       "      <td>...</td>\n",
       "      <td>...</td>\n",
       "      <td>...</td>\n",
       "      <td>...</td>\n",
       "      <td>...</td>\n",
       "      <td>...</td>\n",
       "      <td>...</td>\n",
       "      <td>...</td>\n",
       "      <td>...</td>\n",
       "    </tr>\n",
       "    <tr>\n",
       "      <th>275</th>\n",
       "      <td>240302</td>\n",
       "      <td>TUMBES</td>\n",
       "      <td>ZARUMILLA</td>\n",
       "      <td>AGUAS VERDES</td>\n",
       "      <td>24781</td>\n",
       "      <td>46,06</td>\n",
       "      <td>80.35</td>\n",
       "      <td>33.140</td>\n",
       "      <td>43.488</td>\n",
       "      <td>AGUAS VERDES</td>\n",
       "      <td>TUMBES+ZARUMILLA</td>\n",
       "    </tr>\n",
       "    <tr>\n",
       "      <th>276</th>\n",
       "      <td>250204</td>\n",
       "      <td>UCAYALI</td>\n",
       "      <td>ATALAYA</td>\n",
       "      <td>YURUA</td>\n",
       "      <td>2716</td>\n",
       "      <td>9175,58</td>\n",
       "      <td>69.40</td>\n",
       "      <td>28.760</td>\n",
       "      <td>40.824</td>\n",
       "      <td>YURUA</td>\n",
       "      <td>UCAYALI+ATALAYA</td>\n",
       "    </tr>\n",
       "    <tr>\n",
       "      <th>277</th>\n",
       "      <td>250101</td>\n",
       "      <td>UCAYALI</td>\n",
       "      <td>CORONEL PORTILLO</td>\n",
       "      <td>CALLERIA</td>\n",
       "      <td>159364</td>\n",
       "      <td>10485,41</td>\n",
       "      <td>92.23</td>\n",
       "      <td>37.892</td>\n",
       "      <td>51.606</td>\n",
       "      <td>CALLERIA</td>\n",
       "      <td>UCAYALI+CORONEL PORTILLO</td>\n",
       "    </tr>\n",
       "    <tr>\n",
       "      <th>278</th>\n",
       "      <td>250301</td>\n",
       "      <td>UCAYALI</td>\n",
       "      <td>PADRE ABAD</td>\n",
       "      <td>PADRE ABAD</td>\n",
       "      <td>26614</td>\n",
       "      <td>4689,2</td>\n",
       "      <td>59.06</td>\n",
       "      <td>24.624</td>\n",
       "      <td>86.445</td>\n",
       "      <td>PADRE ABAD</td>\n",
       "      <td>UCAYALI+PADRE ABAD</td>\n",
       "    </tr>\n",
       "    <tr>\n",
       "      <th>279</th>\n",
       "      <td>250401</td>\n",
       "      <td>UCAYALI</td>\n",
       "      <td>PURUS</td>\n",
       "      <td>PURUS</td>\n",
       "      <td>4657</td>\n",
       "      <td>17847,76</td>\n",
       "      <td>72.88</td>\n",
       "      <td>30.152</td>\n",
       "      <td>56.241</td>\n",
       "      <td>PURUS</td>\n",
       "      <td>UCAYALI+PURUS</td>\n",
       "    </tr>\n",
       "  </tbody>\n",
       "</table>\n",
       "<p>280 rows × 11 columns</p>\n",
       "</div>"
      ],
      "text/plain": [
       "     Ubigeo Departamento         Provincia      Distrito  Poblacion  \\\n",
       "0     10202     AMAZONAS             BAGUA      ARAMANGO      10940   \n",
       "1     10201     AMAZONAS             BAGUA         BAGUA      26091   \n",
       "2     10302     AMAZONAS           BONGARA    CHISQUILLA        335   \n",
       "3     10102     AMAZONAS       CHACHAPOYAS      ASUNCION        288   \n",
       "4     10103     AMAZONAS       CHACHAPOYAS        BALSAS       1644   \n",
       "..      ...          ...               ...           ...        ...   \n",
       "275  240302       TUMBES         ZARUMILLA  AGUAS VERDES      24781   \n",
       "276  250204      UCAYALI           ATALAYA         YURUA       2716   \n",
       "277  250101      UCAYALI  CORONEL PORTILLO      CALLERIA     159364   \n",
       "278  250301      UCAYALI        PADRE ABAD    PADRE ABAD      26614   \n",
       "279  250401      UCAYALI             PURUS         PURUS       4657   \n",
       "\n",
       "    Superficie  hogares_saneamiento_pct  poblacion_pobreza_PCT  \\\n",
       "0       809,07                    61.44                 25.576   \n",
       "1       150,99                    89.46                 36.784   \n",
       "2       174,96                    88.20                 36.280   \n",
       "3        25,71                    73.42                 30.368   \n",
       "4       357,09                    89.80                 36.920   \n",
       "..         ...                      ...                    ...   \n",
       "275      46,06                    80.35                 33.140   \n",
       "276    9175,58                    69.40                 28.760   \n",
       "277   10485,41                    92.23                 37.892   \n",
       "278     4689,2                    59.06                 24.624   \n",
       "279   17847,76                    72.88                 30.152   \n",
       "\n",
       "     viviendas_con_servicio_de_luz     Dist$rito                DepartProv  \n",
       "0                           78.372      ARAMANGO            AMAZONAS+BAGUA  \n",
       "1                           24.750         BAGUA            AMAZONAS+BAGUA  \n",
       "2                           44.064    CHISQUILLA          AMAZONAS+BONGARA  \n",
       "3                           57.303      ASUNCION      AMAZONAS+CHACHAPOYAS  \n",
       "4                           46.188        BALSAS      AMAZONAS+CHACHAPOYAS  \n",
       "..                             ...           ...                       ...  \n",
       "275                         43.488  AGUAS VERDES          TUMBES+ZARUMILLA  \n",
       "276                         40.824         YURUA           UCAYALI+ATALAYA  \n",
       "277                         51.606      CALLERIA  UCAYALI+CORONEL PORTILLO  \n",
       "278                         86.445    PADRE ABAD        UCAYALI+PADRE ABAD  \n",
       "279                         56.241         PURUS             UCAYALI+PURUS  \n",
       "\n",
       "[280 rows x 11 columns]"
      ]
     },
     "execution_count": 19,
     "metadata": {},
     "output_type": "execute_result"
    }
   ],
   "source": [
    "#muestro la tabla\n",
    "datadis"
   ]
  },
  {
   "cell_type": "code",
   "execution_count": 20,
   "id": "5c364f66",
   "metadata": {},
   "outputs": [],
   "source": [
    "# Merging: combinar las dos tablas\n",
    "nomatch_df = set(datadis.DepartProv)-set(dataDisMap.DepartProv)\n",
    "nomatch_gdf = set(dataDisMap.DepartProv)-set(datadis.DepartProv)"
   ]
  },
  {
   "cell_type": "code",
   "execution_count": 21,
   "id": "4c9bfd16",
   "metadata": {},
   "outputs": [
    {
     "data": {
      "text/plain": [
       "(3, 33)"
      ]
     },
     "execution_count": 21,
     "metadata": {},
     "output_type": "execute_result"
    }
   ],
   "source": [
    "len(nomatch_df), len(nomatch_gdf)"
   ]
  },
  {
   "cell_type": "code",
   "execution_count": 22,
   "id": "7b5b2032",
   "metadata": {},
   "outputs": [
    {
     "data": {
      "text/plain": [
       "[('HUANUCO+MARA+ ON', ('HUANUCO+MARANON', 90)),\n",
       " ('LAMBAYEQUE+FERRE+ AFE', ('LAMBAYEQUE+FERRENAFE', 93)),\n",
       " ('LORETO+DATEM DEL MARA+ ON', ('LORETO+DATEM DEL MARANON', 94))]"
      ]
     },
     "execution_count": 22,
     "metadata": {},
     "output_type": "execute_result"
    }
   ],
   "source": [
    "# elijo la coincidencia que este más cerca a nomatch_gdf para un valor en nomatch_df\n",
    "from thefuzz import process\n",
    "[(dis,process.extractOne(dis,nomatch_gdf)) for dis in sorted(nomatch_df)]"
   ]
  },
  {
   "cell_type": "code",
   "execution_count": 23,
   "id": "b55dcc2f",
   "metadata": {},
   "outputs": [],
   "source": [
    "changes_df = {dis:process.extractOne(dis,nomatch_gdf)[0] for dis in sorted(nomatch_df)}"
   ]
  },
  {
   "cell_type": "code",
   "execution_count": 25,
   "id": "1c8a314a",
   "metadata": {},
   "outputs": [],
   "source": [
    "# reemplazo\n",
    "datadis.DepartProv.replace(changes_df,inplace=True)"
   ]
  },
  {
   "cell_type": "code",
   "execution_count": 26,
   "id": "ee493885",
   "metadata": {},
   "outputs": [],
   "source": [
    "# proceso de merge \n",
    "dataDisMap = dataDisMap.merge(datadis, on='DepartProv')"
   ]
  },
  {
   "cell_type": "code",
   "execution_count": 27,
   "id": "37bef640",
   "metadata": {},
   "outputs": [
    {
     "name": "stdout",
     "output_type": "stream",
     "text": [
      "<class 'geopandas.geodataframe.GeoDataFrame'>\n",
      "Int64Index: 3309 entries, 0 to 3308\n",
      "Data columns (total 16 columns):\n",
      " #   Column                         Non-Null Count  Dtype   \n",
      "---  ------                         --------------  -----   \n",
      " 0   DEPARTAMEN                     3309 non-null   object  \n",
      " 1   PROVINCIA                      3309 non-null   object  \n",
      " 2   DISTRITO                       3309 non-null   object  \n",
      " 3   INSTITUCIO                     3309 non-null   object  \n",
      " 4   geometry                       3309 non-null   geometry\n",
      " 5   DepartProv                     3309 non-null   object  \n",
      " 6   Ubigeo                         3309 non-null   object  \n",
      " 7   Departamento                   3309 non-null   object  \n",
      " 8   Provincia                      3309 non-null   object  \n",
      " 9   Distrito                       3309 non-null   object  \n",
      " 10  Poblacion                      3309 non-null   int64   \n",
      " 11  Superficie                     3309 non-null   object  \n",
      " 12  hogares_saneamiento_pct        3309 non-null   float64 \n",
      " 13  poblacion_pobreza_PCT          3309 non-null   float64 \n",
      " 14  viviendas_con_servicio_de_luz  3309 non-null   float64 \n",
      " 15  Dist$rito                      3309 non-null   object  \n",
      "dtypes: float64(3), geometry(1), int64(1), object(11)\n",
      "memory usage: 439.5+ KB\n"
     ]
    }
   ],
   "source": [
    "# reviso la tabla \"dataDisMap\" ya mergeada \n",
    "dataDisMap.info()"
   ]
  },
  {
   "cell_type": "code",
   "execution_count": 28,
   "id": "ac4ba636",
   "metadata": {},
   "outputs": [
    {
     "data": {
      "text/html": [
       "<div>\n",
       "<style scoped>\n",
       "    .dataframe tbody tr th:only-of-type {\n",
       "        vertical-align: middle;\n",
       "    }\n",
       "\n",
       "    .dataframe tbody tr th {\n",
       "        vertical-align: top;\n",
       "    }\n",
       "\n",
       "    .dataframe thead th {\n",
       "        text-align: right;\n",
       "    }\n",
       "</style>\n",
       "<table border=\"1\" class=\"dataframe\">\n",
       "  <thead>\n",
       "    <tr style=\"text-align: right;\">\n",
       "      <th></th>\n",
       "      <th>DEPARTAMEN</th>\n",
       "      <th>PROVINCIA</th>\n",
       "      <th>DISTRITO</th>\n",
       "      <th>geometry</th>\n",
       "      <th>DepartProv</th>\n",
       "      <th>Ubigeo</th>\n",
       "      <th>Poblacion</th>\n",
       "      <th>Superficie</th>\n",
       "      <th>hogares_saneamiento_pct</th>\n",
       "      <th>poblacion_pobreza_PCT</th>\n",
       "      <th>viviendas_con_servicio_de_luz</th>\n",
       "    </tr>\n",
       "  </thead>\n",
       "  <tbody>\n",
       "    <tr>\n",
       "      <th>0</th>\n",
       "      <td>MOQUEGUA</td>\n",
       "      <td>ILO</td>\n",
       "      <td>ILO</td>\n",
       "      <td>POLYGON ((-71.33934 -17.62215, -71.33907 -17.6...</td>\n",
       "      <td>MOQUEGUA+ILO</td>\n",
       "      <td>180303</td>\n",
       "      <td>3319</td>\n",
       "      <td>338,08</td>\n",
       "      <td>88.55</td>\n",
       "      <td>36.420</td>\n",
       "      <td>75.645</td>\n",
       "    </tr>\n",
       "    <tr>\n",
       "      <th>1</th>\n",
       "      <td>MOQUEGUA</td>\n",
       "      <td>ILO</td>\n",
       "      <td>EL ALGARROBAL</td>\n",
       "      <td>POLYGON ((-71.25881 -17.44067, -71.25696 -17.4...</td>\n",
       "      <td>MOQUEGUA+ILO</td>\n",
       "      <td>180303</td>\n",
       "      <td>3319</td>\n",
       "      <td>338,08</td>\n",
       "      <td>88.55</td>\n",
       "      <td>36.420</td>\n",
       "      <td>75.645</td>\n",
       "    </tr>\n",
       "    <tr>\n",
       "      <th>2</th>\n",
       "      <td>MOQUEGUA</td>\n",
       "      <td>ILO</td>\n",
       "      <td>PACOCHA</td>\n",
       "      <td>POLYGON ((-71.43784 -17.24969, -71.43806 -17.2...</td>\n",
       "      <td>MOQUEGUA+ILO</td>\n",
       "      <td>180303</td>\n",
       "      <td>3319</td>\n",
       "      <td>338,08</td>\n",
       "      <td>88.55</td>\n",
       "      <td>36.420</td>\n",
       "      <td>75.645</td>\n",
       "    </tr>\n",
       "    <tr>\n",
       "      <th>3</th>\n",
       "      <td>TACNA</td>\n",
       "      <td>TARATA</td>\n",
       "      <td>ESTIQUE PAMPA</td>\n",
       "      <td>POLYGON ((-70.06805 -17.51975, -70.06760 -17.5...</td>\n",
       "      <td>TACNA+TARATA</td>\n",
       "      <td>230408</td>\n",
       "      <td>547</td>\n",
       "      <td>347,06</td>\n",
       "      <td>93.46</td>\n",
       "      <td>38.384</td>\n",
       "      <td>55.305</td>\n",
       "    </tr>\n",
       "    <tr>\n",
       "      <th>4</th>\n",
       "      <td>TACNA</td>\n",
       "      <td>TARATA</td>\n",
       "      <td>ESTIQUE</td>\n",
       "      <td>POLYGON ((-69.84819 -17.50783, -69.84942 -17.5...</td>\n",
       "      <td>TACNA+TARATA</td>\n",
       "      <td>230408</td>\n",
       "      <td>547</td>\n",
       "      <td>347,06</td>\n",
       "      <td>93.46</td>\n",
       "      <td>38.384</td>\n",
       "      <td>55.305</td>\n",
       "    </tr>\n",
       "  </tbody>\n",
       "</table>\n",
       "</div>"
      ],
      "text/plain": [
       "  DEPARTAMEN PROVINCIA       DISTRITO  \\\n",
       "0   MOQUEGUA       ILO            ILO   \n",
       "1   MOQUEGUA       ILO  EL ALGARROBAL   \n",
       "2   MOQUEGUA       ILO        PACOCHA   \n",
       "3      TACNA    TARATA  ESTIQUE PAMPA   \n",
       "4      TACNA    TARATA        ESTIQUE   \n",
       "\n",
       "                                            geometry    DepartProv  Ubigeo  \\\n",
       "0  POLYGON ((-71.33934 -17.62215, -71.33907 -17.6...  MOQUEGUA+ILO  180303   \n",
       "1  POLYGON ((-71.25881 -17.44067, -71.25696 -17.4...  MOQUEGUA+ILO  180303   \n",
       "2  POLYGON ((-71.43784 -17.24969, -71.43806 -17.2...  MOQUEGUA+ILO  180303   \n",
       "3  POLYGON ((-70.06805 -17.51975, -70.06760 -17.5...  TACNA+TARATA  230408   \n",
       "4  POLYGON ((-69.84819 -17.50783, -69.84942 -17.5...  TACNA+TARATA  230408   \n",
       "\n",
       "   Poblacion Superficie  hogares_saneamiento_pct  poblacion_pobreza_PCT  \\\n",
       "0       3319     338,08                    88.55                 36.420   \n",
       "1       3319     338,08                    88.55                 36.420   \n",
       "2       3319     338,08                    88.55                 36.420   \n",
       "3        547     347,06                    93.46                 38.384   \n",
       "4        547     347,06                    93.46                 38.384   \n",
       "\n",
       "   viviendas_con_servicio_de_luz  \n",
       "0                         75.645  \n",
       "1                         75.645  \n",
       "2                         75.645  \n",
       "3                         55.305  \n",
       "4                         55.305  "
      ]
     },
     "execution_count": 28,
     "metadata": {},
     "output_type": "execute_result"
    }
   ],
   "source": [
    "# elimino algunas columnas, que tienen nombre repetido\n",
    "bye = ['Departamento', 'Provincia', 'Distrito','Dist$rito','INSTITUCIO']\n",
    "dataDisMap.drop(columns=bye,inplace=True)\n",
    "\n",
    "dataDisMap.head()"
   ]
  },
  {
   "cell_type": "code",
   "execution_count": 29,
   "id": "0a985d1b",
   "metadata": {},
   "outputs": [
    {
     "data": {
      "text/html": [
       "<div>\n",
       "<style scoped>\n",
       "    .dataframe tbody tr th:only-of-type {\n",
       "        vertical-align: middle;\n",
       "    }\n",
       "\n",
       "    .dataframe tbody tr th {\n",
       "        vertical-align: top;\n",
       "    }\n",
       "\n",
       "    .dataframe thead th {\n",
       "        text-align: right;\n",
       "    }\n",
       "</style>\n",
       "<table border=\"1\" class=\"dataframe\">\n",
       "  <thead>\n",
       "    <tr style=\"text-align: right;\">\n",
       "      <th></th>\n",
       "      <th>DEPARTAMENTO</th>\n",
       "      <th>PROVINCIA</th>\n",
       "      <th>DISTRITO</th>\n",
       "      <th>geometry</th>\n",
       "      <th>DepartProv</th>\n",
       "      <th>Ubigeo</th>\n",
       "      <th>Poblacion</th>\n",
       "      <th>Superficie</th>\n",
       "      <th>HogSaneamPct</th>\n",
       "      <th>PobPobrezaPct</th>\n",
       "      <th>VivConLuzPct</th>\n",
       "    </tr>\n",
       "  </thead>\n",
       "  <tbody>\n",
       "    <tr>\n",
       "      <th>0</th>\n",
       "      <td>MOQUEGUA</td>\n",
       "      <td>ILO</td>\n",
       "      <td>ILO</td>\n",
       "      <td>POLYGON ((-71.33934 -17.62215, -71.33907 -17.6...</td>\n",
       "      <td>MOQUEGUA+ILO</td>\n",
       "      <td>180303</td>\n",
       "      <td>3319</td>\n",
       "      <td>338,08</td>\n",
       "      <td>88.55</td>\n",
       "      <td>36.420</td>\n",
       "      <td>75.645</td>\n",
       "    </tr>\n",
       "    <tr>\n",
       "      <th>1</th>\n",
       "      <td>MOQUEGUA</td>\n",
       "      <td>ILO</td>\n",
       "      <td>EL ALGARROBAL</td>\n",
       "      <td>POLYGON ((-71.25881 -17.44067, -71.25696 -17.4...</td>\n",
       "      <td>MOQUEGUA+ILO</td>\n",
       "      <td>180303</td>\n",
       "      <td>3319</td>\n",
       "      <td>338,08</td>\n",
       "      <td>88.55</td>\n",
       "      <td>36.420</td>\n",
       "      <td>75.645</td>\n",
       "    </tr>\n",
       "    <tr>\n",
       "      <th>2</th>\n",
       "      <td>MOQUEGUA</td>\n",
       "      <td>ILO</td>\n",
       "      <td>PACOCHA</td>\n",
       "      <td>POLYGON ((-71.43784 -17.24969, -71.43806 -17.2...</td>\n",
       "      <td>MOQUEGUA+ILO</td>\n",
       "      <td>180303</td>\n",
       "      <td>3319</td>\n",
       "      <td>338,08</td>\n",
       "      <td>88.55</td>\n",
       "      <td>36.420</td>\n",
       "      <td>75.645</td>\n",
       "    </tr>\n",
       "    <tr>\n",
       "      <th>3</th>\n",
       "      <td>TACNA</td>\n",
       "      <td>TARATA</td>\n",
       "      <td>ESTIQUE PAMPA</td>\n",
       "      <td>POLYGON ((-70.06805 -17.51975, -70.06760 -17.5...</td>\n",
       "      <td>TACNA+TARATA</td>\n",
       "      <td>230408</td>\n",
       "      <td>547</td>\n",
       "      <td>347,06</td>\n",
       "      <td>93.46</td>\n",
       "      <td>38.384</td>\n",
       "      <td>55.305</td>\n",
       "    </tr>\n",
       "    <tr>\n",
       "      <th>4</th>\n",
       "      <td>TACNA</td>\n",
       "      <td>TARATA</td>\n",
       "      <td>ESTIQUE</td>\n",
       "      <td>POLYGON ((-69.84819 -17.50783, -69.84942 -17.5...</td>\n",
       "      <td>TACNA+TARATA</td>\n",
       "      <td>230408</td>\n",
       "      <td>547</td>\n",
       "      <td>347,06</td>\n",
       "      <td>93.46</td>\n",
       "      <td>38.384</td>\n",
       "      <td>55.305</td>\n",
       "    </tr>\n",
       "  </tbody>\n",
       "</table>\n",
       "</div>"
      ],
      "text/plain": [
       "  DEPARTAMENTO PROVINCIA       DISTRITO  \\\n",
       "0     MOQUEGUA       ILO            ILO   \n",
       "1     MOQUEGUA       ILO  EL ALGARROBAL   \n",
       "2     MOQUEGUA       ILO        PACOCHA   \n",
       "3        TACNA    TARATA  ESTIQUE PAMPA   \n",
       "4        TACNA    TARATA        ESTIQUE   \n",
       "\n",
       "                                            geometry    DepartProv  Ubigeo  \\\n",
       "0  POLYGON ((-71.33934 -17.62215, -71.33907 -17.6...  MOQUEGUA+ILO  180303   \n",
       "1  POLYGON ((-71.25881 -17.44067, -71.25696 -17.4...  MOQUEGUA+ILO  180303   \n",
       "2  POLYGON ((-71.43784 -17.24969, -71.43806 -17.2...  MOQUEGUA+ILO  180303   \n",
       "3  POLYGON ((-70.06805 -17.51975, -70.06760 -17.5...  TACNA+TARATA  230408   \n",
       "4  POLYGON ((-69.84819 -17.50783, -69.84942 -17.5...  TACNA+TARATA  230408   \n",
       "\n",
       "   Poblacion Superficie  HogSaneamPct  PobPobrezaPct  VivConLuzPct  \n",
       "0       3319     338,08         88.55         36.420        75.645  \n",
       "1       3319     338,08         88.55         36.420        75.645  \n",
       "2       3319     338,08         88.55         36.420        75.645  \n",
       "3        547     347,06         93.46         38.384        55.305  \n",
       "4        547     347,06         93.46         38.384        55.305  "
      ]
     },
     "execution_count": 29,
     "metadata": {},
     "output_type": "execute_result"
    }
   ],
   "source": [
    "# renombramiento \n",
    "rename = {'DEPARTAMEN': 'DEPARTAMENTO', 'hogares_saneamiento_pct':'HogSaneamPct', 'poblacion_pobreza_PCT':'PobPobrezaPct', 'viviendas_con_servicio_de_luz':'VivConLuzPct'}\n",
    "dataDisMap.rename(columns=rename, inplace=True)\n",
    "\n",
    "dataDisMap.head()"
   ]
  },
  {
   "cell_type": "code",
   "execution_count": 32,
   "id": "11d8e452",
   "metadata": {},
   "outputs": [],
   "source": [
    "#GUARDAR GPKG "
   ]
  },
  {
   "cell_type": "code",
   "execution_count": 33,
   "id": "e23fd78d",
   "metadata": {},
   "outputs": [],
   "source": [
    "#EJERCICIO 2"
   ]
  },
  {
   "cell_type": "code",
   "execution_count": 35,
   "id": "350f61e4",
   "metadata": {},
   "outputs": [
    {
     "data": {
      "text/plain": [
       "count    3309.000000\n",
       "mean       80.668160\n",
       "std        11.580376\n",
       "min        52.530000\n",
       "25%        72.820000\n",
       "50%        81.950000\n",
       "75%        91.260000\n",
       "max        97.180000\n",
       "Name: HogSaneamPct, dtype: float64"
      ]
     },
     "execution_count": 35,
     "metadata": {},
     "output_type": "execute_result"
    }
   ],
   "source": [
    "# estadísticas de: HogSaneamPct\n",
    "dataDisMap.HogSaneamPct.describe()"
   ]
  },
  {
   "cell_type": "code",
   "execution_count": 36,
   "id": "7da4a370",
   "metadata": {},
   "outputs": [
    {
     "data": {
      "text/plain": [
       "<seaborn.axisgrid.FacetGrid at 0x7fb5d2bb59a0>"
      ]
     },
     "execution_count": 36,
     "metadata": {},
     "output_type": "execute_result"
    },
    {
     "data": {
      "image/png": "[encoded data removed]",
      "text/plain": [
       "<Figure size 500x500 with 1 Axes>"
      ]
     },
     "metadata": {},
     "output_type": "display_data"
    }
   ],
   "source": [
    "import seaborn as sea\n",
    "\n",
    "sea.displot(dataDisMap.HogSaneamPct, color='pink')"
   ]
  },
  {
   "cell_type": "code",
   "execution_count": 37,
   "id": "3555b060",
   "metadata": {},
   "outputs": [
    {
     "name": "stderr",
     "output_type": "stream",
     "text": [
      "/Users/valeriaminano/opt/anaconda3/lib/python3.9/site-packages/seaborn/_decorators.py:36: FutureWarning: Pass the following variable as a keyword arg: x. From version 0.12, the only valid positional argument will be `data`, and passing other arguments without an explicit keyword will result in an error or misinterpretation.\n",
      "  warnings.warn(\n"
     ]
    },
    {
     "data": {
      "text/plain": [
       "<AxesSubplot:xlabel='HogSaneamPct'>"
      ]
     },
     "execution_count": 37,
     "metadata": {},
     "output_type": "execute_result"
    }
   ],
   "source": [
    "sea.boxplot(dataDisMap.HogSaneamPct, color='pink', orient='h')"
   ]
  },
  {
   "cell_type": "code",
   "execution_count": 39,
   "id": "d1d85d0b",
   "metadata": {},
   "outputs": [],
   "source": [
    "# para asegurarnos que los resultados sean consistentes:\n",
    "import numpy as np\n",
    "np.random.seed(12345)"
   ]
  },
  {
   "cell_type": "code",
   "execution_count": 41,
   "id": "24c1a122",
   "metadata": {},
   "outputs": [],
   "source": [
    "import mapclassify "
   ]
  },
  {
   "cell_type": "code",
   "execution_count": 42,
   "id": "0a3f7687",
   "metadata": {},
   "outputs": [],
   "source": [
    "#5 intervalos\n",
    "K = 5"
   ]
  },
  {
   "cell_type": "code",
   "execution_count": 43,
   "id": "3bd54b97",
   "metadata": {},
   "outputs": [],
   "source": [
    "# mismo ancho de intervalo, fácil interpretación\n",
    "ei5 = mapclassify.EqualInterval(dataDisMap['HogSaneamPct'], k=K)"
   ]
  },
  {
   "cell_type": "code",
   "execution_count": 44,
   "id": "5d4168b9",
   "metadata": {},
   "outputs": [],
   "source": [
    "msd = mapclassify.StdMean(dataDisMap['HogSaneamPct'])"
   ]
  },
  {
   "cell_type": "code",
   "execution_count": 45,
   "id": "a90133f2",
   "metadata": {},
   "outputs": [],
   "source": [
    "q5 = mapclassify.Quantiles(dataDisMap['HogSaneamPct'], k=K)"
   ]
  },
  {
   "cell_type": "code",
   "execution_count": 46,
   "id": "6d719e8b",
   "metadata": {},
   "outputs": [],
   "source": [
    "mb5 = mapclassify.MaximumBreaks(dataDisMap['HogSaneamPct'], k=K)"
   ]
  },
  {
   "cell_type": "code",
   "execution_count": 47,
   "id": "496b2829",
   "metadata": {},
   "outputs": [],
   "source": [
    "ht = mapclassify.HeadTailBreaks(dataDisMap['HogSaneamPct'])"
   ]
  },
  {
   "cell_type": "code",
   "execution_count": 48,
   "id": "ab93bc96",
   "metadata": {},
   "outputs": [],
   "source": [
    "fj5 = mapclassify.FisherJenks(dataDisMap['HogSaneamPct'], k=K)"
   ]
  },
  {
   "cell_type": "code",
   "execution_count": 49,
   "id": "ec97f178",
   "metadata": {},
   "outputs": [],
   "source": [
    "jc5 = mapclassify.JenksCaspall(dataDisMap['HogSaneamPct'], k=K)"
   ]
  },
  {
   "cell_type": "code",
   "execution_count": 50,
   "id": "f6b46212",
   "metadata": {},
   "outputs": [
    {
     "data": {
      "text/plain": [
       "HeadTailBreaks\n",
       "\n",
       "   Interval      Count\n",
       "----------------------\n",
       "[52.53, 80.67] |  1575\n",
       "(80.67, 90.10] |   845\n",
       "(90.10, 94.32] |   404\n",
       "(94.32, 95.89] |   333\n",
       "(95.89, 97.04] |    81\n",
       "(97.04, 97.18] |    71"
      ]
     },
     "execution_count": 50,
     "metadata": {},
     "output_type": "execute_result"
    }
   ],
   "source": [
    "#tabla de frecuencias por defecto\n",
    "ht"
   ]
  },
  {
   "cell_type": "code",
   "execution_count": 51,
   "id": "79dd2df0",
   "metadata": {},
   "outputs": [
    {
     "data": {
      "text/plain": [
       "(array([0, 1, 2, 3, 4, 5]), array([1575,  845,  404,  333,   81,   71]))"
      ]
     },
     "execution_count": 51,
     "metadata": {},
     "output_type": "execute_result"
    }
   ],
   "source": [
    "np.unique(ht.yb,return_counts=True)"
   ]
  },
  {
   "cell_type": "code",
   "execution_count": 52,
   "id": "603e19cd",
   "metadata": {},
   "outputs": [
    {
     "data": {
      "text/plain": [
       "0    1575\n",
       "1     845\n",
       "2     404\n",
       "3     333\n",
       "4      81\n",
       "5      71\n",
       "dtype: int64"
      ]
     },
     "execution_count": 52,
     "metadata": {},
     "output_type": "execute_result"
    }
   ],
   "source": [
    "pd.Series(ht.yb).value_counts()"
   ]
  },
  {
   "cell_type": "code",
   "execution_count": 53,
   "id": "413ad00e",
   "metadata": {},
   "outputs": [
    {
     "data": {
      "text/plain": [
       "array([80.66815956, 90.10224337, 94.31934758, 95.88713402, 97.04026316,\n",
       "       97.18      ])"
      ]
     },
     "execution_count": 53,
     "metadata": {},
     "output_type": "execute_result"
    }
   ],
   "source": [
    "ht.bins"
   ]
  },
  {
   "cell_type": "code",
   "execution_count": 54,
   "id": "6eda0ae1",
   "metadata": {},
   "outputs": [],
   "source": [
    "HT_bins = list(ht.bins)\n",
    "HT_bins.insert(0,dataDisMap.HogSaneamPct.min())"
   ]
  },
  {
   "cell_type": "code",
   "execution_count": 55,
   "id": "e46e947c",
   "metadata": {},
   "outputs": [
    {
     "data": {
      "text/plain": [
       "<seaborn.axisgrid.FacetGrid at 0x7fb5dad70850>"
      ]
     },
     "execution_count": 55,
     "metadata": {},
     "output_type": "execute_result"
    }
   ],
   "source": [
    "sea.displot(dataDisMap.HogSaneamPct, bins=HT_bins,color='blue')"
   ]
  },
  {
   "cell_type": "code",
   "execution_count": 57,
   "id": "e0375014",
   "metadata": {},
   "outputs": [],
   "source": [
    "class5 = q5, ei5, msd, ht, mb5, fj5, jc5\n",
    "\n",
    "# recolecto ADCM para cada clasificador\n",
    "fits = np.array([ c.adcm for c in class5])\n",
    "\n",
    "# convertir puntuaciones de ADCM en un df\n",
    "adcms = pd.DataFrame(fits)\n",
    "\n",
    "# agrego nombres de clasificadores\n",
    "adcms['classifier'] = [c.name for c in class5]\n",
    "\n",
    "# agrego nombres de columna al ADCM\n",
    "adcms.columns = ['ADCM', 'Classifier']\n",
    "ax = sea.barplot(y='Classifier', x='ADCM', data=adcms, palette='Pastel1')"
   ]
  },
  {
   "cell_type": "code",
   "execution_count": 58,
   "id": "673e7a6d",
   "metadata": {},
   "outputs": [],
   "source": [
    "dataDisMap['QU'] = q5.yb\n",
    "dataDisMap['EI'] = ei5.yb\n",
    "dataDisMap['FJ'] = fj5.yb"
   ]
  },
  {
   "cell_type": "code",
   "execution_count": 59,
   "id": "005e48d8",
   "metadata": {},
   "outputs": [
    {
     "data": {
      "text/html": [
       "<div>\n",
       "<style scoped>\n",
       "    .dataframe tbody tr th:only-of-type {\n",
       "        vertical-align: middle;\n",
       "    }\n",
       "\n",
       "    .dataframe tbody tr th {\n",
       "        vertical-align: top;\n",
       "    }\n",
       "\n",
       "    .dataframe thead th {\n",
       "        text-align: right;\n",
       "    }\n",
       "</style>\n",
       "<table border=\"1\" class=\"dataframe\">\n",
       "  <thead>\n",
       "    <tr style=\"text-align: right;\">\n",
       "      <th></th>\n",
       "      <th>Quantiles</th>\n",
       "      <th>EqualInterval</th>\n",
       "      <th>FisherJenks</th>\n",
       "    </tr>\n",
       "  </thead>\n",
       "  <tbody>\n",
       "    <tr>\n",
       "      <th>Class-0</th>\n",
       "      <td>683</td>\n",
       "      <td>221</td>\n",
       "      <td>643</td>\n",
       "    </tr>\n",
       "    <tr>\n",
       "      <th>Class-1</th>\n",
       "      <td>651</td>\n",
       "      <td>466</td>\n",
       "      <td>691</td>\n",
       "    </tr>\n",
       "    <tr>\n",
       "      <th>Class-2</th>\n",
       "      <td>666</td>\n",
       "      <td>763</td>\n",
       "      <td>666</td>\n",
       "    </tr>\n",
       "    <tr>\n",
       "      <th>Class-3</th>\n",
       "      <td>684</td>\n",
       "      <td>758</td>\n",
       "      <td>684</td>\n",
       "    </tr>\n",
       "    <tr>\n",
       "      <th>Class-4</th>\n",
       "      <td>625</td>\n",
       "      <td>1101</td>\n",
       "      <td>625</td>\n",
       "    </tr>\n",
       "  </tbody>\n",
       "</table>\n",
       "</div>"
      ],
      "text/plain": [
       "         Quantiles  EqualInterval  FisherJenks\n",
       "Class-0        683            221          643\n",
       "Class-1        651            466          691\n",
       "Class-2        666            763          666\n",
       "Class-3        684            758          684\n",
       "Class-4        625           1101          625"
      ]
     },
     "execution_count": 59,
     "metadata": {},
     "output_type": "execute_result"
    }
   ],
   "source": [
    "class5new = q5, ei5, fj5\n",
    "pd.DataFrame({c.name: c.counts for c in class5new}, index=['Class-{}'.format(i) for i in range(5)])"
   ]
  },
  {
   "cell_type": "code",
   "execution_count": 63,
   "id": "1d2a0be8",
   "metadata": {},
   "outputs": [
    {
     "data": {
      "text/plain": [
       "<AxesSubplot:>"
      ]
     },
     "execution_count": 63,
     "metadata": {},
     "output_type": "execute_result"
    }
   ],
   "source": [
    "import matplotlib.pyplot as plt\n",
    "\n",
    "f, ax = plt.subplots(1, figsize=(9, 9))\n",
    "\n",
    "dataDisMap.plot(column='QU', \n",
    "                    cmap='viridis', \n",
    "                    categorical=True,\n",
    "                    edgecolor='white', \n",
    "                    linewidth=0., \n",
    "                    alpha=0.75, \n",
    "                    legend=True,\n",
    "                    legend_kwds=dict(loc=2),\n",
    "                    ax=ax)\n",
    "\n",
    "ax.set_axis_off()\n",
    "\n",
    "dataDisMap.plot()"
   ]
  },
  {
   "cell_type": "code",
   "execution_count": 65,
   "id": "a1b20867",
   "metadata": {},
   "outputs": [],
   "source": [
    "#Quantiles: distribuir datos equitativamente en diferentes categorías\n",
    "\n",
    "f, ax = plt.subplots(1, figsize=(9, 9))\n",
    "\n",
    "dataDisMap.plot(column='HogSaneamPct', \n",
    "                      cmap='viridis',       \n",
    "                      scheme='Quantiles',\n",
    "                      k=5, \n",
    "                      edgecolor='white', \n",
    "                      linewidth=0.2, \n",
    "                      alpha=0.75, \n",
    "                      legend=True,\n",
    "                      legend_kwds=dict(loc=2),\n",
    "                      ax=ax)\n",
    "\n",
    "ax.set_axis_off()"
   ]
  },
  {
   "cell_type": "code",
   "execution_count": 66,
   "id": "e3807fcd",
   "metadata": {},
   "outputs": [],
   "source": [
    "#EqualInterval:intervalos de ancho uniforme\n",
    "\n",
    "f, ax = plt.subplots(1, figsize=(9, 9))\n",
    "\n",
    "dataDisMap.plot(column='HogSaneamPct', \n",
    "                      cmap='viridis',       \n",
    "                      scheme='EqualInterval',\n",
    "                      k=5, \n",
    "                      edgecolor='white', \n",
    "                      linewidth=0.2, \n",
    "                      alpha=0.75, \n",
    "                      legend=True,\n",
    "                      legend_kwds=dict(loc=2),\n",
    "                      ax=ax)\n",
    "\n",
    "ax.set_axis_off()"
   ]
  },
  {
   "cell_type": "code",
   "execution_count": 67,
   "id": "254047f2",
   "metadata": {},
   "outputs": [],
   "source": [
    "#FisherJenks: maximizar la diferenciación entre los grupos\n",
    "\n",
    "f, ax = plt.subplots(1, figsize=(9, 9))\n",
    "\n",
    "dataDisMap.plot(column='HogSaneamPct', \n",
    "                      cmap='viridis',       \n",
    "                      scheme='FisherJenks',\n",
    "                      k=5, \n",
    "                      edgecolor='white', \n",
    "                      linewidth=0.2, \n",
    "                      alpha=0.75, \n",
    "                      legend=True,\n",
    "                      legend_kwds=dict(loc=2),\n",
    "                      ax=ax)\n",
    "\n",
    "ax.set_axis_off()"
   ]
  },
  {
   "cell_type": "code",
   "execution_count": null,
   "id": "3c8fd99e",
   "metadata": {},
   "outputs": [],
   "source": []
  }
 ],
 "metadata": {
  "kernelspec": {
   "display_name": "Python 3 (ipykernel)",
   "language": "python",
   "name": "python3"
  },
  "language_info": {
   "codemirror_mode": {
    "name": "ipython",
    "version": 3
   },
   "file_extension": ".py",
   "mimetype": "text/x-python",
   "name": "python",
   "nbconvert_exporter": "python",
   "pygments_lexer": "ipython3",
   "version": "3.9.13"
  }
 },
 "nbformat": 4,
 "nbformat_minor": 5
}
